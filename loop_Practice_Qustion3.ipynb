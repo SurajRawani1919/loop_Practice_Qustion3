{
 "cells": [
  {
   "cell_type": "code",
   "execution_count": 1,
   "id": "9950e1bf-6d1d-45e8-b6ce-5c193475b6ed",
   "metadata": {},
   "outputs": [
    {
     "name": "stdout",
     "output_type": "stream",
     "text": [
      "Even Number:2\n",
      "Even Number:4\n",
      "Even Number:6\n",
      "Even Number:8\n",
      "Even Number:10\n",
      "Even Number:12\n",
      "Even Number:14\n",
      "Even Number:16\n",
      "Even Number:18\n",
      "Even Number:20\n",
      "Even Number:22\n",
      "Even Number:24\n",
      "Even Number:26\n",
      "Even Number:28\n",
      "Even Number:30\n",
      "Even Number:32\n",
      "Even Number:34\n",
      "Even Number:36\n",
      "Even Number:38\n",
      "Even Number:40\n",
      "Even Number:42\n",
      "Even Number:44\n",
      "Even Number:46\n",
      "Even Number:48\n",
      "Even Number:50\n"
     ]
    }
   ],
   "source": [
    "#1.For loop that prints all the even numbers from 1 to 50:\n",
    "for i in range (1,51):\n",
    "    if i%2==0:\n",
    "        print(f\"Even Number:{i}\")\n",
    "\n",
    "#for num in range(2, 51, 2):\n",
    "#print(num)"
   ]
  },
  {
   "cell_type": "code",
   "execution_count": 3,
   "id": "439d6ca9-695c-4fa2-9e2c-739920eede34",
   "metadata": {},
   "outputs": [
    {
     "name": "stdout",
     "output_type": "stream",
     "text": [
      "Sum of all odd numbers: 2500\n"
     ]
    }
   ],
   "source": [
    "#2. Using a while loop, calculate the sum of all odd numbers between 1 and 100:\n",
    "i = 1\n",
    "sum= 0\n",
    "\n",
    "while i < 100:\n",
    "    if i % 2 != 0:\n",
    "        sum+= i\n",
    "    i += 1\n",
    "\n",
    "print(f\"Sum of all odd numbers: {sum}\")"
   ]
  },
  {
   "cell_type": "code",
   "execution_count": 4,
   "id": "a0a9c255-0433-4fe1-badc-e2f71e4a1fe9",
   "metadata": {},
   "outputs": [
    {
     "name": "stdin",
     "output_type": "stream",
     "text": [
      "Enter a string:  suraj\n"
     ]
    },
    {
     "name": "stdout",
     "output_type": "stream",
     "text": [
      "Reversed string: jarus\n"
     ]
    }
   ],
   "source": [
    "#3.For loop to reverse a string without using slicing:\n",
    "string = input(\"Enter a string: \")\n",
    "reversed_string = \"\"\n",
    "for char in string:\n",
    "    reversed_string = char + reversed_string\n",
    "print(\"Reversed string:\", reversed_string)\n"
   ]
  },
  {
   "cell_type": "code",
   "execution_count": 5,
   "id": "bf78711e-5742-41e7-93da-47877abb5a52",
   "metadata": {},
   "outputs": [
    {
     "name": "stdout",
     "output_type": "stream",
     "text": [
      "10\n",
      "9\n",
      "8\n",
      "7\n",
      "6\n",
      "5\n",
      "4\n",
      "3\n",
      "2\n",
      "1\n",
      "0\n"
     ]
    }
   ],
   "source": [
    "#4. Using a while loop, implement a basic countdown timer that counts down from 10 to 0:\n",
    "count = 10\n",
    "while count >= 0:\n",
    "    print(count)\n",
    "    count -= 1\n",
    "\n"
   ]
  },
  {
   "cell_type": "code",
   "execution_count": 6,
   "id": "cd3b2e3b-5f53-46a1-ad09-e465543d07e2",
   "metadata": {},
   "outputs": [
    {
     "name": "stdout",
     "output_type": "stream",
     "text": [
      "2\n",
      "3\n",
      "5\n",
      "7\n"
     ]
    }
   ],
   "source": [
    "#5. For loop to iterate over a list and print the elements that are prime numbers:\n",
    "numbers = [2, 3, 4, 5, 6, 7, 8, 9, 10]\n",
    "for num in numbers:\n",
    "    if num > 1:\n",
    "        is_prime = True\n",
    "        for i in range(2, num):\n",
    "            if num % i == 0:\n",
    "                is_prime = False\n",
    "                break\n",
    "        if is_prime:\n",
    "            print(num)\n"
   ]
  },
  {
   "cell_type": "code",
   "execution_count": 7,
   "id": "b36e42b6-9900-473a-99a3-0f49861310a6",
   "metadata": {},
   "outputs": [
    {
     "name": "stdout",
     "output_type": "stream",
     "text": [
      "The first number greater than 100 that is divisible by 7 is: 105\n"
     ]
    }
   ],
   "source": [
    "#6. Use a while loop to find the first number that is both divisible by 7 and greater than 100:\n",
    "\n",
    "number = 101\n",
    "while number % 7 != 0:\n",
    "    number += 1\n",
    "\n",
    "print(\"The first number greater than 100 that is divisible by 7 is:\", number)\n"
   ]
  },
  {
   "cell_type": "code",
   "execution_count": 9,
   "id": "04b1fde0-29ce-4486-a092-771fad7ea9b4",
   "metadata": {},
   "outputs": [
    {
     "name": "stdout",
     "output_type": "stream",
     "text": [
      "1 4 9 16 25 "
     ]
    }
   ],
   "source": [
    "#7.Create a for loop that iterates through a list of numbers and prints the square of each number:\n",
    "\n",
    "list = [1, 2, 3, 4, 5]\n",
    "for i in  list:\n",
    "    print(i ** 2,end=\" \")\n"
   ]
  },
  {
   "cell_type": "code",
   "execution_count": 10,
   "id": "738d4d35-48d5-40c6-92b6-91b36f350e45",
   "metadata": {},
   "outputs": [
    {
     "name": "stdin",
     "output_type": "stream",
     "text": [
      "Enter a number (negative to stop):  2\n",
      "Enter a number (negative to stop):  -2\n"
     ]
    },
    {
     "name": "stdout",
     "output_type": "stream",
     "text": [
      "You entered a negative number. Loop stopped.\n"
     ]
    }
   ],
   "source": [
    "#8.Write a while loop that keeps asking the user for a number until they enter a negative number:\n",
    "\n",
    "while True:\n",
    "    num = int(input(\"Enter a number (negative to stop): \"))\n",
    "    if num < 0:\n",
    "        break\n",
    "\n",
    "print(\"You entered a negative number. Loop stopped.\")\n"
   ]
  },
  {
   "cell_type": "code",
   "execution_count": 11,
   "id": "77bede0b-a0de-4325-b63d-8e0bbed8821e",
   "metadata": {},
   "outputs": [
    {
     "name": "stdin",
     "output_type": "stream",
     "text": [
      "Enter a number to calculate its factorial:  5\n"
     ]
    },
    {
     "name": "stdout",
     "output_type": "stream",
     "text": [
      "The factorial of 5 is 120.\n"
     ]
    }
   ],
   "source": [
    "#9. Using a for loop, write a program that calculates the factorial of a given number:\n",
    "\n",
    "number = int(input(\"Enter a number to calculate its factorial: \"))\n",
    "factorial = 1\n",
    "\n",
    "for i in range(1, number + 1):\n",
    "    factorial *= i\n",
    "\n",
    "print(f\"The factorial of {number} is {factorial}.\")\n"
   ]
  },
  {
   "cell_type": "code",
   "execution_count": 12,
   "id": "8f8a5133-2e22-492a-9317-390158b7dd59",
   "metadata": {},
   "outputs": [
    {
     "name": "stdout",
     "output_type": "stream",
     "text": [
      "0 1 1 2 3 5 8 13 21 34 55 89 144 233 377 610 987 "
     ]
    }
   ],
   "source": [
    "#10. Use a while loop to print the Fibonacci sequence until the value exceeds 1000:\n",
    "a, b = 0, 1\n",
    "while a <= 1000:\n",
    "    print(a,end=\" \")\n",
    "    a, b = b, a + b\n"
   ]
  },
  {
   "cell_type": "code",
   "execution_count": 13,
   "id": "9219dec6-6def-4ef5-92f7-e8414d6b5abf",
   "metadata": {},
   "outputs": [
    {
     "name": "stdout",
     "output_type": "stream",
     "text": [
      "Smallest element is: 4\n"
     ]
    }
   ],
   "source": [
    "#11. For loop to find the smallest number in a list of integers without using the min() function:\n",
    "\n",
    "list1 = [10, 20, 4, 45, 99]\n",
    "list1.sort()\n",
    "print(\"Smallest element is:\", list1[0])"
   ]
  },
  {
   "cell_type": "code",
   "execution_count": null,
   "id": "ba906b55-d406-4236-ab69-1cbb55784cfd",
   "metadata": {},
   "outputs": [],
   "source": [
    "#12. Using a while loop, implement a guessing game where the user has to guess a secret number between 1 and 100:\n",
    "import random\n",
    "\n",
    "secret_number = random.randint(1, 100)\n",
    "guess = None\n",
    "\n",
    "while guess != secret_number:\n",
    "    guess = int(input(\"Guess the number (1-100): \"))\n",
    "    if guess < secret_number:\n",
    "        print(\"Too low!\")\n",
    "    elif guess > secret_number:\n",
    "        print(\"Too high!\")\n",
    "    else:\n",
    "        print(\"Correct! You guessed the number.\")"
   ]
  },
  {
   "cell_type": "code",
   "execution_count": 14,
   "id": "581b6772-64eb-4fde-8f66-fd7da5d30495",
   "metadata": {},
   "outputs": [
    {
     "name": "stdin",
     "output_type": "stream",
     "text": [
      "Enter a string:  suraj\n"
     ]
    },
    {
     "name": "stdout",
     "output_type": "stream",
     "text": [
      "The number of vowels in the string is: 2\n"
     ]
    }
   ],
   "source": [
    "#13.For loop to count the number of vowels in a given string:\n",
    "str= input(\"Enter a string: \")\n",
    "\n",
    "vowel_count = 0\n",
    "vowels = \"aeiouAEIOU\"\n",
    "\n",
    "for char in str:\n",
    "    if char in vowels:\n",
    "        vowel_count += 1\n",
    "print(\"The number of vowels in the string is:\", vowel_count)\n"
   ]
  },
  {
   "cell_type": "code",
   "execution_count": 15,
   "id": "722243d2-91fc-4d07-a4d2-683fec50c8a9",
   "metadata": {},
   "outputs": [
    {
     "name": "stdin",
     "output_type": "stream",
     "text": [
      "Enter PIN:  1234\n"
     ]
    },
    {
     "name": "stdout",
     "output_type": "stream",
     "text": [
      "PIN accepted.\n"
     ]
    }
   ],
   "source": [
    "#14. Use a while loop to simulate a simple ATM that continues to prompt for a PIN until the correct one is entered:\n",
    "correct_pin = \"1234\"\n",
    "entered_pin = \"\"\n",
    "\n",
    "while entered_pin != correct_pin:\n",
    "    entered_pin = input(\"Enter PIN: \")\n",
    "    if entered_pin == correct_pin:\n",
    "        print(\"PIN accepted.\")\n",
    "    else:\n",
    "        print(\"Incorrect PIN. Try again.\")\n"
   ]
  },
  {
   "cell_type": "code",
   "execution_count": 16,
   "id": "96846fe3-9a2e-49f0-806c-976e83fb24e4",
   "metadata": {},
   "outputs": [
    {
     "name": "stdout",
     "output_type": "stream",
     "text": [
      "name: Suraj\n",
      "age: 25\n",
      "city: New York\n"
     ]
    }
   ],
   "source": [
    "#15. Create a for loop that iterates over a dictionary and prints each key-value pair:\n",
    "\n",
    "my_dict = {\"name\": \"Suraj\", \"age\": 25, \"city\": \"New York\"}\n",
    "for key, value in my_dict.items():\n",
    "    print(f\"{key}: {value}\")\n"
   ]
  },
  {
   "cell_type": "code",
   "execution_count": 17,
   "id": "3eb58456-40a0-46ef-8da3-ccb678d6525e",
   "metadata": {},
   "outputs": [
    {
     "name": "stdin",
     "output_type": "stream",
     "text": [
      " 7\n"
     ]
    },
    {
     "name": "stdout",
     "output_type": "stream",
     "text": [
      "7 X 1 = 7\n",
      "7 X 2 = 14\n",
      "7 X 3 = 21\n",
      "7 X 4 = 28\n",
      "7 X 5 = 35\n",
      "7 X 6 = 42\n",
      "7 X 7 = 49\n",
      "7 X 8 = 56\n",
      "7 X 9 = 63\n",
      "7 X 10 = 70\n"
     ]
    }
   ],
   "source": [
    "#16. Write a while loop that generates a multiplication table for a number provided by the user:\n",
    "\n",
    "a=int(input())\n",
    "for i in range (1,11):\n",
    "    print(f'{a} X {i} =',i*a)"
   ]
  },
  {
   "cell_type": "code",
   "execution_count": 18,
   "id": "b6b0a69d-d767-42d2-bc67-b461663b4a89",
   "metadata": {},
   "outputs": [
    {
     "name": "stdout",
     "output_type": "stream",
     "text": [
      "List is sorted: True\n"
     ]
    }
   ],
   "source": [
    "#17. Using a for loop, write a program that checks if a list is sorted in ascending order:\n",
    "\n",
    "numbers = [1, 2, 3, 4, 5]\n",
    "is_sorted = True\n",
    "for i in range(1, len(numbers)):\n",
    "    if numbers[i] < numbers[i - 1]:\n",
    "        is_sorted = False\n",
    "        break\n",
    "print(\"List is sorted:\", is_sorted)\n"
   ]
  },
  {
   "cell_type": "code",
   "execution_count": 20,
   "id": "9101b2ca-560a-464c-afa5-901770c5da38",
   "metadata": {},
   "outputs": [
    {
     "name": "stdin",
     "output_type": "stream",
     "text": [
      "Enter the first number:  5\n",
      "Enter the second number:  8\n"
     ]
    },
    {
     "name": "stdout",
     "output_type": "stream",
     "text": [
      "GCD: 1\n"
     ]
    }
   ],
   "source": [
    "#18. Write a while loop to find the greatest common divisor (GCD) of two numbers:\n",
    "\n",
    "a = int(input(\"Enter the first number: \"))\n",
    "b = int(input(\"Enter the second number: \"))\n",
    "\n",
    "while b != 0:\n",
    "    a, b = b, a % b\n",
    "\n",
    "print(\"GCD:\", a)\n"
   ]
  },
  {
   "cell_type": "code",
   "execution_count": 21,
   "id": "ac038600-1518-4640-a60e-0af1cecb837a",
   "metadata": {},
   "outputs": [
    {
     "name": "stdout",
     "output_type": "stream",
     "text": [
      "*          \n",
      "* *        \n",
      "* * *      \n",
      "* * * *    \n",
      "* * * * *  \n"
     ]
    }
   ],
   "source": [
    "#19. Use a for loop to create a pattern that prints a right-angled triangle of stars () with 5 rows\n",
    "\n",
    "for i in range(1, 6):\n",
    "    for j in range(1, 6):\n",
    "        if j <= i:\n",
    "            print(\"*\", end=\" \")\n",
    "        else:\n",
    "            print(\" \", end=\" \")\n",
    "    print(\" \")\n",
    "\n",
    "#or\n",
    "#for i in range(1, 6):\n",
    "#   print('*' * i)\n"
   ]
  },
  {
   "cell_type": "code",
   "execution_count": 22,
   "id": "0f3d4e74-a5a7-4e13-a938-1480da8f304f",
   "metadata": {},
   "outputs": [
    {
     "name": "stdin",
     "output_type": "stream",
     "text": [
      "Enter a number:  45\n",
      "Enter a number:  65\n"
     ]
    },
    {
     "name": "stdout",
     "output_type": "stream",
     "text": [
      "Total exceeds 100. Final sum: 110.0\n"
     ]
    }
   ],
   "source": [
    "#20. Create a while loop that reads numbers from the user and stops when the sum of the entered numbers exceeds 100\n",
    "total = 0\n",
    "while total <= 100:\n",
    "    num = float(input(\"Enter a number: \"))\n",
    "    total += num\n",
    "print(\"Total exceeds 100. Final sum:\", total)\n"
   ]
  },
  {
   "cell_type": "code",
   "execution_count": null,
   "id": "61b77831-86fc-4d5f-8d32-6b1c2f62b0c3",
   "metadata": {},
   "outputs": [],
   "source": []
  }
 ],
 "metadata": {
  "kernelspec": {
   "display_name": "Python 3 (ipykernel)",
   "language": "python",
   "name": "python3"
  },
  "language_info": {
   "codemirror_mode": {
    "name": "ipython",
    "version": 3
   },
   "file_extension": ".py",
   "mimetype": "text/x-python",
   "name": "python",
   "nbconvert_exporter": "python",
   "pygments_lexer": "ipython3",
   "version": "3.10.11"
  }
 },
 "nbformat": 4,
 "nbformat_minor": 5
}
